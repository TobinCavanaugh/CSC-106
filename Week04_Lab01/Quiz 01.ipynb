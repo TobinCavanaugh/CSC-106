{
 "cells": [
  {
   "cell_type": "markdown",
   "id": "f1c0b3bf",
   "metadata": {},
   "source": [
    "# Question 1"
   ]
  },
  {
   "cell_type": "raw",
   "id": "87b36eb2",
   "metadata": {},
   "source": [
    "A Python program is required to calculate the amount, in dollars, contained in a piggybank. The bank contains half dollars, quarters, dimes, nickels, and pennies."
   ]
  },
  {
   "cell_type": "raw",
   "id": "4471312e",
   "metadata": {},
   "source": [
    "a. For this programming problem, how many inputs and outputs are required?\n",
    "5 inputs, 1 output"
   ]
  },
  {
   "cell_type": "raw",
   "id": "7dfc57eb",
   "metadata": {},
   "source": [
    "b. Write an algorithm for converting the input items into output items."
   ]
  },
  {
   "cell_type": "code",
   "execution_count": 1,
   "id": "5ac15522",
   "metadata": {},
   "outputs": [],
   "source": [
    "#1. Define the quantities for half dollars, quarters, dimes, nickels, and pennies.\n",
    "\n",
    "#2. Build the algorithm. \n",
    "\n",
    "# Calculates the amount of dollars as a float value. \n",
    "def CalculateAmount(pennies, nickels, dimes, quarters, halfDollars):\n",
    "    value = (pennies / 100) + (nickels / 20) + (dimes / 10) + (quarters / 4) + (halfDollars / 2)\n",
    "    return value"
   ]
  },
  {
   "cell_type": "raw",
   "id": "9ae0d9a5",
   "metadata": {},
   "source": [
    "c. Test the algorithm written for Exercise 1c using the following sample data: half dollars 10,  \n",
    "   quarters 7, dimes 240, nickels 6, and pennies 12."
   ]
  },
  {
   "cell_type": "code",
   "execution_count": 3,
   "id": "7c16e53f",
   "metadata": {},
   "outputs": [
    {
     "name": "stdout",
     "output_type": "stream",
     "text": [
      "$31.17\n"
     ]
    }
   ],
   "source": [
    "# HW test\n",
    "print(\"$\" + str(CalculateAmount(12, 6, 240, 7, 10)))\n",
    "# $31.37"
   ]
  },
  {
   "cell_type": "markdown",
   "id": "1f9d8183",
   "metadata": {},
   "source": [
    "# Question 2"
   ]
  },
  {
   "cell_type": "raw",
   "id": "c935ee31",
   "metadata": {},
   "source": [
    "You have been tasked to design a data container using tuples and list for the registrars office. This form would be used to request for transcripts from high schools. Please define the data elements for both the categories. \n"
   ]
  },
  {
   "cell_type": "raw",
   "id": "9aba34e3",
   "metadata": {},
   "source": [
    "Define List Data :\n",
    "\n",
    "1. Major = \"Computer Science\"\n",
    "2. GPA = 4.0\n",
    "3. Infractions = None\n",
    "4. Classes = ['CSC 106', 'ENR 200']\n",
    "5. Semester = 1\n"
   ]
  },
  {
   "cell_type": "raw",
   "id": "5d42efb5",
   "metadata": {},
   "source": [
    "Define Tuple Data :\n",
    "\n",
    "1. Name = \"Tobin Cavanaugh\"\n",
    "2. GPA_HS = 4.0\n",
    "3. Transfer = False\n",
    "4. HighSchool = \"Ballard High School\"\n",
    "5. Birthday = \"04/12/2005\"\n"
   ]
  },
  {
   "cell_type": "markdown",
   "id": "9cfc8652",
   "metadata": {},
   "source": [
    "# Question 3"
   ]
  },
  {
   "cell_type": "raw",
   "id": "9504c23c",
   "metadata": {},
   "source": [
    "Write a Python program to compute the differences between 3 rectangles whose lengths are 5, 4 and 3 and breadths are 3, 4 and 5 respectively.  \n"
   ]
  },
  {
   "cell_type": "raw",
   "id": "dd8afc41",
   "metadata": {},
   "source": [
    "Step 1 : Following mnemonics, define the parameters.\n",
    "    \n",
    "Square A\n",
    "Length :  SA_L = 5\n",
    "Breadth : SA_B = 3\n",
    "\n",
    "Square B\n",
    "Length :  SB_L = 4\n",
    "Breadth : SB_B = 4\n",
    "\n",
    "Square C\n",
    "Length :  SC_L = 3\n",
    "Breadth : SC_B = 5\n"
   ]
  },
  {
   "cell_type": "code",
   "execution_count": null,
   "id": "f1d26485",
   "metadata": {},
   "outputs": [],
   "source": [
    "#Step 1 : Define the above parameters. \n",
    "\n",
    "SA_L = 5\n",
    "SA_W = 3\n",
    "\n",
    "SB_L = 4\n",
    "SB_W = 4\n",
    "\n",
    "SC_L = 3\n",
    "SC_W = 5"
   ]
  },
  {
   "cell_type": "raw",
   "id": "e194af78",
   "metadata": {},
   "source": [
    "Step 2 : What parametric differences can we have : \n",
    "    \n",
    "1. Length\n",
    "2. Breadth\n",
    "3. Perimeter\n",
    "4. Area \n"
   ]
  },
  {
   "cell_type": "raw",
   "id": "6e65451a",
   "metadata": {},
   "source": [
    "Step 3 : Compute Difference between Square A and Square B.\n",
    "    \n",
    "1. Length Difference between Square A and Square B :\n",
    "2. Breadth Difference between Square A and Square B :\n",
    "3. Perimeter Difference between Square A and Square B :\n",
    "4. Area Difference between Square A and Square B :\n",
    " "
   ]
  },
  {
   "cell_type": "code",
   "execution_count": null,
   "id": "6013c3fc",
   "metadata": {},
   "outputs": [],
   "source": [
    "\n",
    "# Calculate differences in lengths\n",
    "print(\"Lengths (in units):\")\n",
    "print(\"A -> B: \" + str(abs(SA_L - SB_L)))\n",
    "print(\"B -> C: \" + str(abs(SB_L - SC_L)))\n",
    "print(\"A -> C: \" + str(abs(SA_L - SC_L)))"
   ]
  },
  {
   "cell_type": "code",
   "execution_count": null,
   "id": "76575397",
   "metadata": {},
   "outputs": [],
   "source": [
    "\n",
    "# Calculate differences in widths\n",
    "print(\"Widths (in units):\")\n",
    "print(\"A -> B: \" + str(abs(SA_W - SB_W)))\n",
    "print(\"B -> C: \" + str(abs(SB_W - SC_W)))\n",
    "print(\"A -> C: \" + str(abs(SA_W - SC_W)))"
   ]
  },
  {
   "cell_type": "code",
   "execution_count": null,
   "id": "a0a97559",
   "metadata": {},
   "outputs": [],
   "source": [
    "\n",
    "# Calculate differences in perimeter\n",
    "print(\"Perimeter (in units):\")\n",
    "print(\"A -> B: \" + str((SA_L * 2 + SA_W * 2) - (SB_L * 2 + SB_W * 2)))\n",
    "print(\"B -> C: \" + str((SB_L * 2 + SB_W * 2) - (SC_L * 2 + SC_W * 2)))\n",
    "print(\"A -> C: \" + str((SA_L * 2 + SA_W * 2) - (SC_L * 2 + SC_W * 2)))"
   ]
  },
  {
   "cell_type": "code",
   "execution_count": null,
   "id": "26b84af2",
   "metadata": {},
   "outputs": [],
   "source": [
    "\n",
    "# Calculate differences in area\n",
    "print(\"Area (in units squared):\")\n",
    "print(\"A -> B: \" + str(abs(SA_L * SA_W - SB_L * SB_W)))\n",
    "print(\"B -> C: \" + str(abs(SB_L * SB_W - SC_L * SC_W)))\n",
    "print(\"A -> C: \" + str(abs(SA_L * SA_W - SC_L * SC_W)))"
   ]
  },
  {
   "cell_type": "markdown",
   "id": "fa91f4e7",
   "metadata": {},
   "source": [
    "# Compute the differences for the remaining squares? "
   ]
  },
  {
   "cell_type": "code",
   "execution_count": null,
   "id": "a903d3d4",
   "metadata": {},
   "outputs": [],
   "source": []
  }
 ],
 "metadata": {
  "kernelspec": {
   "display_name": "Python 3 (ipykernel)",
   "language": "python",
   "name": "python3"
  },
  "language_info": {
   "codemirror_mode": {
    "name": "ipython",
    "version": 3
   },
   "file_extension": ".py",
   "mimetype": "text/x-python",
   "name": "python",
   "nbconvert_exporter": "python",
   "pygments_lexer": "ipython3",
   "version": "3.9.13"
  }
 },
 "nbformat": 4,
 "nbformat_minor": 5
}
