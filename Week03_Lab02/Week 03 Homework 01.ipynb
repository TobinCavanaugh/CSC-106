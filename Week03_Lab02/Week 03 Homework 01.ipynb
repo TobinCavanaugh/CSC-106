{
 "cells": [
  {
   "cell_type": "code",
   "execution_count": null,
   "metadata": {},
   "outputs": [],
   "source": [
    "\"\"\"\n",
    "Tobin Cavanaugh\n",
    "09.20.23\n",
    "Homework 01\n",
    "Question 00\n",
    "CSC 106\n",
    "\"\"\"\n",
    "\n",
    "# Write a python program to compute the differences between three squares whose lengths are 5, 4, 3\n",
    "\n",
    "# TODO This could be improved with loops if additional functionality is needed, but thats extreme for rn.\n",
    "\n",
    "a = 5\n",
    "b = 4\n",
    "c = 5\n",
    "\n",
    "# Calculate the areas\n",
    "aa = pow(a,2)\n",
    "ba = pow(b,2)\n",
    "ca = pow(c,2)\n",
    "\n",
    "# Calculate and print the differences in area as units squared\n",
    "print(\"Area A -> B: \" + str(aa - ba) + \"u^2\")\n",
    "print(\"Area B -> C: \" + str(ba - ca) + \"u^2\")\n",
    "print(\"Area A -> C: \" + str(aa - ca) + \"u^2\")\n",
    "\n",
    "# Calculate and print the differences in sides as units\n",
    "print(\"Side A -> B: \" + str(a - b) + \"u\")\n",
    "print(\"Side B -> C: \" + str(b - c) + \"u\")\n",
    "print(\"Side A -> C: \" + str(a - c) + \"u\")\n",
    "\n",
    "# Calculate the perimeters\n",
    "ap = 4 * a\n",
    "bp = 4 * b\n",
    "cp = 4 * c\n",
    "\n",
    "# Calculate and print the differences in perimeters\n",
    "print(\"Perimeter A -> B: \" + str(ap - bp) + \"u\")\n",
    "print(\"Perimeter B -> C: \" + str(bp - cp) + \"u\")\n",
    "print(\"Perimeter A -> C: \" + str(ap - cp) + \"u\")"
   ]
  }
 ],
 "metadata": {
  "language_info": {
   "name": "python"
  },
  "orig_nbformat": 4
 },
 "nbformat": 4,
 "nbformat_minor": 2
}
