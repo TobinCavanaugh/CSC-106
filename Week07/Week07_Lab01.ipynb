{
 "cells": [
  {
   "cell_type": "code",
   "execution_count": 1,
   "metadata": {},
   "outputs": [
    {
     "name": "stdout",
     "output_type": "stream",
     "text": [
      "A\n",
      "B\n",
      "C\n",
      "D\n",
      "F\n"
     ]
    }
   ],
   "source": [
    "grades = [\"A\", \"B\", \"C\", \"D\", \"F\"]\n",
    "\n",
    "for g in grades:\n",
    "    print(g)"
   ]
  },
  {
   "cell_type": "code",
   "execution_count": 3,
   "metadata": {},
   "outputs": [
    {
     "name": "stdout",
     "output_type": "stream",
     "text": [
      "First_Name:Tobin\n",
      "Middle_Name:Samuel\n",
      "Last_Name:Cavanaugh\n"
     ]
    }
   ],
   "source": [
    "fullName = {\"First_Name\" : \"Tobin\", \"Middle_Name\": \"Samuel\", \"Last_Name\": \"Cavanaugh\"}\n",
    "\n",
    "for n in fullName:\n",
    "    print(n + \":\" + fullName[n])"
   ]
  },
  {
   "cell_type": "code",
   "execution_count": 7,
   "metadata": {},
   "outputs": [
    {
     "name": "stdout",
     "output_type": "stream",
     "text": [
      "1\n",
      "3\n",
      "5\n",
      "7\n",
      "9\n",
      "11\n",
      "13\n",
      "15\n",
      "17\n",
      "19\n",
      "21\n"
     ]
    }
   ],
   "source": [
    "for n in range(1, 22, 2):\n",
    "    print(n)"
   ]
  },
  {
   "cell_type": "code",
   "execution_count": 10,
   "metadata": {},
   "outputs": [
    {
     "name": "stdout",
     "output_type": "stream",
     "text": [
      "0\n",
      "1\n",
      "2\n",
      "3\n",
      "4\n",
      "5\n",
      "done\n"
     ]
    }
   ],
   "source": [
    "for x in range(6):\n",
    "    print(x)\n",
    "else:\n",
    "    print(\"done\")"
   ]
  },
  {
   "cell_type": "code",
   "execution_count": 12,
   "metadata": {},
   "outputs": [
    {
     "name": "stdout",
     "output_type": "stream",
     "text": [
      "Tom 90\n",
      "Mary 100\n",
      "Jack 95\n"
     ]
    }
   ],
   "source": [
    "names = [\"Tom\", \"Mary\", \"Jack\"]\n",
    "numbers = [90, 100, 95]\n",
    "\n",
    "it = 0\n",
    "for x in names:\n",
    "    print(x + \" \" + str(numbers[it]))\n",
    "    it += 1"
   ]
  },
  {
   "cell_type": "code",
   "execution_count": 13,
   "metadata": {},
   "outputs": [
    {
     "ename": "NameError",
     "evalue": "name 'a' is not defined",
     "output_type": "error",
     "traceback": [
      "\u001b[1;31m---------------------------------------------------------------------------\u001b[0m",
      "\u001b[1;31mNameError\u001b[0m                                 Traceback (most recent call last)",
      "\u001b[1;32mc:\\Users\\tobin\\Documents\\_Repos\\CSC-106\\Week07\\Week07_Lab01.ipynb Cell 6\u001b[0m line \u001b[0;36m4\n\u001b[0;32m      <a href='vscode-notebook-cell:/c%3A/Users/tobin/Documents/_Repos/CSC-106/Week07/Week07_Lab01.ipynb#W5sZmlsZQ%3D%3D?line=0'>1</a>\u001b[0m pre \u001b[39m=\u001b[39m \u001b[39m\"\u001b[39m\u001b[39mhello\u001b[39m\u001b[39m\"\u001b[39m\n\u001b[0;32m      <a href='vscode-notebook-cell:/c%3A/Users/tobin/Documents/_Repos/CSC-106/Week07/Week07_Lab01.ipynb#W5sZmlsZQ%3D%3D?line=2'>3</a>\u001b[0m rev \u001b[39m=\u001b[39m \u001b[39m\"\u001b[39m\u001b[39m\"\u001b[39m\n\u001b[1;32m----> <a href='vscode-notebook-cell:/c%3A/Users/tobin/Documents/_Repos/CSC-106/Week07/Week07_Lab01.ipynb#W5sZmlsZQ%3D%3D?line=3'>4</a>\u001b[0m \u001b[39mfor\u001b[39;00m a \u001b[39min\u001b[39;00m \u001b[39mrange\u001b[39m(\u001b[39mlen\u001b[39m(a), \u001b[39m0\u001b[39m, \u001b[39m-\u001b[39m\u001b[39m1\u001b[39m):\n\u001b[0;32m      <a href='vscode-notebook-cell:/c%3A/Users/tobin/Documents/_Repos/CSC-106/Week07/Week07_Lab01.ipynb#W5sZmlsZQ%3D%3D?line=4'>5</a>\u001b[0m     rev \u001b[39m+\u001b[39m\u001b[39m=\u001b[39m a\n\u001b[0;32m      <a href='vscode-notebook-cell:/c%3A/Users/tobin/Documents/_Repos/CSC-106/Week07/Week07_Lab01.ipynb#W5sZmlsZQ%3D%3D?line=6'>7</a>\u001b[0m \u001b[39mprint\u001b[39m(a)\n",
      "\u001b[1;31mNameError\u001b[0m: name 'a' is not defined"
     ]
    }
   ],
   "source": [
    "pre = \"hello\"\n",
    "alt = \"olleh\"\n",
    "\n",
    "preDict = {}\n",
    "altDict = {}\n",
    "\n",
    "for c in pre:\n",
    "    if(c in )\n",
    "    preDict.update({c:})"
   ]
  }
 ],
 "metadata": {
  "kernelspec": {
   "display_name": "Python 3",
   "language": "python",
   "name": "python3"
  },
  "language_info": {
   "codemirror_mode": {
    "name": "ipython",
    "version": 3
   },
   "file_extension": ".py",
   "mimetype": "text/x-python",
   "name": "python",
   "nbconvert_exporter": "python",
   "pygments_lexer": "ipython3",
   "version": "3.9.13"
  }
 },
 "nbformat": 4,
 "nbformat_minor": 2
}
