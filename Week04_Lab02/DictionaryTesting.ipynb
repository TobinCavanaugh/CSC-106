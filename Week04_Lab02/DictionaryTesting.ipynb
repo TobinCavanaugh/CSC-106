{
 "cells": [
  {
   "cell_type": "code",
   "execution_count": 1,
   "metadata": {},
   "outputs": [],
   "source": [
    "# this is a compelling feature, maybe dictionaries should have json decoding constructor built in? \n",
    "json = {\n",
    "    \"value\" : \"aaa\",\n",
    "    \"coolguy\": 12,\n",
    "}"
   ]
  },
  {
   "cell_type": "code",
   "execution_count": 6,
   "metadata": {},
   "outputs": [
    {
     "name": "stdout",
     "output_type": "stream",
     "text": [
      "indwfajsnrf\n"
     ]
    }
   ],
   "source": [
    "json['value'] = input()\n",
    "print(json['value'])"
   ]
  },
  {
   "cell_type": "code",
   "execution_count": 7,
   "metadata": {},
   "outputs": [],
   "source": [
    "Student_ID = {\n",
    "    \"Name\" : \"Tobin C.\",\n",
    "    \"Class\" : \"CSC 106\",\n",
    "    \"Homework \" : -1,\n",
    "    \"Question\" : -1,\n",
    "    \"Grade\" : 13, \n",
    "    \"Date\" : \"2023.09.29\"\n",
    "}"
   ]
  },
  {
   "cell_type": "code",
   "execution_count": null,
   "metadata": {},
   "outputs": [],
   "source": []
  }
 ],
 "metadata": {
  "kernelspec": {
   "display_name": "Python 3",
   "language": "python",
   "name": "python3"
  },
  "language_info": {
   "codemirror_mode": {
    "name": "ipython",
    "version": 3
   },
   "file_extension": ".py",
   "mimetype": "text/x-python",
   "name": "python",
   "nbconvert_exporter": "python",
   "pygments_lexer": "ipython3",
   "version": "3.9.13"
  },
  "orig_nbformat": 4
 },
 "nbformat": 4,
 "nbformat_minor": 2
}
