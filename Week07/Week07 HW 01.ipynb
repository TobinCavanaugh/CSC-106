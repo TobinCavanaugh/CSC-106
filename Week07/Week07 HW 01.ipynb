{
 "cells": [
  {
   "cell_type": "code",
   "execution_count": null,
   "metadata": {},
   "outputs": [],
   "source": [
    "\"\"\"\n",
    "Tobin Cavanaugh\n",
    "10.26.2023\n",
    "Week 07\n",
    "HW 01\n",
    "\"\"\"\n",
    "\n",
    "from termcolor import colored\n",
    "import time\n",
    "\n",
    "display = [1,2,3,4,5,6,7,8]\n",
    "\n",
    "dir = 1\n",
    "index = 1\n",
    "bounceCount = 3\n",
    "\n",
    "while(True):\n",
    "    # This sets each item in the display to black\n",
    "    for d in range(0, len(display)):\n",
    "        display[d] = colored(' ', 'black', attrs=['reverse', 'blink'])\n",
    "    \n",
    "    # If we have reached the rightmost display element\n",
    "    if(index >= len(display) - 1):\n",
    "        dir = -1\n",
    "        bounceCount -= 1\n",
    "\n",
    "    # If we have reached the leftmost display element\n",
    "    if(index <= 0):\n",
    "        dir = 1\n",
    "        bounceCount -= 1\n",
    "\n",
    "    # If we are out of bounces we can break\n",
    "    if(bounceCount <= 0):\n",
    "        break\n",
    "\n",
    "    # Increment our index by the direction we are going\n",
    "    index += dir\n",
    "\n",
    "    # Set the element that should be red\n",
    "    display[index] = colored(' ', 'red', attrs=['reverse', 'blink'])\n",
    "\n",
    "    # Print out the actual display\n",
    "    for d in display:\n",
    "        print(d, end=\"\")\n",
    "    print('')\n",
    "\n",
    "    time.sleep(.2)"
   ]
  }
 ],
 "metadata": {
  "kernelspec": {
   "display_name": "Python 3",
   "language": "python",
   "name": "python3"
  },
  "language_info": {
   "name": "python",
   "version": "3.9.13"
  }
 },
 "nbformat": 4,
 "nbformat_minor": 2
}
