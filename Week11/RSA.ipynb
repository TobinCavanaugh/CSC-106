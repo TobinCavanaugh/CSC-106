{
 "cells": [
  {
   "cell_type": "code",
   "execution_count": 30,
   "metadata": {},
   "outputs": [
    {
     "name": "stdout",
     "output_type": "stream",
     "text": [
      "118.0\n"
     ]
    }
   ],
   "source": [
    "p = 11\n",
    "q = 17\n",
    "\n",
    "n = p * q\n",
    "phi = (p-1)*(q-1)\n",
    "\n",
    "e = phi / 2\n",
    "d = pow(e, -1) % phi\n",
    "\n",
    "M = input()\n",
    "C = (pow(int(M), e)) % n\n",
    "print(C)\n"
   ]
  },
  {
   "cell_type": "code",
   "execution_count": 16,
   "metadata": {},
   "outputs": [
    {
     "name": "stdout",
     "output_type": "stream",
     "text": [
      "message: 510402\n",
      "e: 168960 | n: 1531206\n",
      "d: 84479.5\n"
     ]
    }
   ],
   "source": [
    "import math\n",
    "from math import gcd\n",
    "\n",
    "\n",
    "def phi(n):\n",
    "    amount = 0\n",
    "    for k in range(1, n + 1):\n",
    "        if (gcd(n, k) == 1):\n",
    "            amount += 1\n",
    "\n",
    "    amount -= 1\n",
    "    return amount\n",
    "\n",
    "def encrypt(q, p):\n",
    "    n = p * q\n",
    "    e = math.ceil((phi(n) + 1) / 3)\n",
    "    d = ((e ^ (-1) * gcd(phi(n), e))) % (phi(n)) / 4\n",
    "    # e, n are public\n",
    "    # d, n are private\n",
    "\n",
    "    print(f\"message: {p}\")\n",
    "    print(f\"e: {e} | n: {n}\")\n",
    "    print(f\"d: {d}\")\n",
    "\n",
    "\n",
    "encrypt(3, 510402)"
   ]
  },
  {
   "cell_type": "code",
   "execution_count": 34,
   "metadata": {},
   "outputs": [
    {
     "name": "stdout",
     "output_type": "stream",
     "text": [
      "187\n",
      "1.0614475161143195\n"
     ]
    }
   ],
   "source": [
    "M = (pow(C,d)) % n\n",
    "print(M)"
   ]
  },
  {
   "cell_type": "code",
   "execution_count": 27,
   "metadata": {},
   "outputs": [
    {
     "name": "stdout",
     "output_type": "stream",
     "text": [
      "11\n",
      "17\n",
      "22\n",
      "23\n",
      "29\n",
      "32\n",
      "34\n",
      "37\n",
      "40\n",
      "41\n",
      "46\n",
      "47\n",
      "48\n",
      "53\n",
      "55\n",
      "57\n",
      "58\n",
      "59\n",
      "60\n",
      "63\n",
      "67\n",
      "71\n",
      "74\n",
      "75\n",
      "76\n",
      "79\n",
      "82\n",
      "83\n",
      "85\n",
      "87\n",
      "88\n",
      "89\n",
      "94\n",
      "97\n",
      "689\n"
     ]
    }
   ],
   "source": [
    "\n",
    "def isprime(num):\n",
    "    for n in range(2, int(num**0.5)+1):\n",
    "        if num % n == 0:\n",
    "            return False\n",
    "    return True\n",
    "\n",
    "for i in range(1, 100):\n",
    "    if(not isprime(phi(i))):\n",
    "        print(i)\n",
    "print(phi(691))\n",
    "\n"
   ]
  },
  {
   "cell_type": "code",
   "execution_count": 25,
   "metadata": {},
   "outputs": [],
   "source": []
  }
 ],
 "metadata": {
  "kernelspec": {
   "display_name": "Python 3",
   "language": "python",
   "name": "python3"
  },
  "language_info": {
   "codemirror_mode": {
    "name": "ipython",
    "version": 3
   },
   "file_extension": ".py",
   "mimetype": "text/x-python",
   "name": "python",
   "nbconvert_exporter": "python",
   "pygments_lexer": "ipython3",
   "version": "3.9.13"
  }
 },
 "nbformat": 4,
 "nbformat_minor": 2
}
