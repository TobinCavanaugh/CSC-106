{
 "cells": [
  {
   "cell_type": "code",
   "execution_count": 4,
   "metadata": {},
   "outputs": [
    {
     "name": "stdout",
     "output_type": "stream",
     "text": [
      "{'y', 'h', 'o', 'P', 't', 'n'}\n",
      "y\n",
      "h\n",
      "o\n",
      "P\n",
      "t\n",
      "n\n"
     ]
    },
    {
     "ename": "TypeError",
     "evalue": "'set' object is not subscriptable",
     "output_type": "error",
     "traceback": [
      "\u001b[1;31m---------------------------------------------------------------------------\u001b[0m",
      "\u001b[1;31mTypeError\u001b[0m                                 Traceback (most recent call last)",
      "\u001b[1;32mc:\\Users\\tobin\\Documents\\_Repos\\CSC-106\\Week04_Lab02\\SetExploration.ipynb Cell 1\u001b[0m line \u001b[0;36m1\n\u001b[0;32m      <a href='vscode-notebook-cell:/c%3A/Users/tobin/Documents/_Repos/CSC-106/Week04_Lab02/SetExploration.ipynb#W0sZmlsZQ%3D%3D?line=8'>9</a>\u001b[0m     \u001b[39mprint\u001b[39m(c)\n\u001b[0;32m     <a href='vscode-notebook-cell:/c%3A/Users/tobin/Documents/_Repos/CSC-106/Week04_Lab02/SetExploration.ipynb#W0sZmlsZQ%3D%3D?line=10'>11</a>\u001b[0m \u001b[39m# This doesnt work, as sets arent indexable\u001b[39;00m\n\u001b[1;32m---> <a href='vscode-notebook-cell:/c%3A/Users/tobin/Documents/_Repos/CSC-106/Week04_Lab02/SetExploration.ipynb#W0sZmlsZQ%3D%3D?line=11'>12</a>\u001b[0m \u001b[39mprint\u001b[39m(Language[\u001b[39m0\u001b[39;49m])\n",
      "\u001b[1;31mTypeError\u001b[0m: 'set' object is not subscriptable"
     ]
    }
   ],
   "source": [
    "# Weird, when i run this in a .py file, it prints differently each time i run it, in a .ipynb it prints the same way each run.\n",
    "# Seems like sets are just unsorted arrays? I wonder how they're indexed\n",
    "\n",
    "Language = {'P', 'y', 't', 'h', 'o', 'n'}\n",
    "\n",
    "print(Language) \n",
    "\n",
    "for c in Language:\n",
    "    print(c)\n",
    "\n",
    "# This doesnt work, as sets arent indexable\n",
    "print(Language[0])"
   ]
  },
  {
   "cell_type": "code",
   "execution_count": 13,
   "metadata": {},
   "outputs": [
    {
     "name": "stdout",
     "output_type": "stream",
     "text": [
      "{123, 543, 'abc'}\n"
     ]
    }
   ],
   "source": [
    "Mixed = {123, 'abc', 543}\n",
    "print(Mixed)"
   ]
  },
  {
   "cell_type": "code",
   "execution_count": 21,
   "metadata": {},
   "outputs": [
    {
     "name": "stdout",
     "output_type": "stream",
     "text": [
      "{'l', 'o', 'e', 'H'}\n"
     ]
    }
   ],
   "source": [
    "Hello = {'H', 'e', 'l', 'l', 'o'}\n",
    "\n",
    "# Repeated values are discarded\n",
    "print(Hello)\n"
   ]
  },
  {
   "cell_type": "code",
   "execution_count": 35,
   "metadata": {},
   "outputs": [
    {
     "name": "stdout",
     "output_type": "stream",
     "text": [
      "{0, 1, '09.27.2023', 'CSC 106', 'Tobin C'}\n"
     ]
    }
   ],
   "source": [
    "# Very fun, python thinks 0 and 0.0 are the same\n",
    "Student_ID = {\"Tobin C\", \"CSC 106\", 0, 1, 1, \"09.27.2023\"}\n",
    "print(Student_ID)"
   ]
  },
  {
   "cell_type": "code",
   "execution_count": 36,
   "metadata": {},
   "outputs": [
    {
     "name": "stdout",
     "output_type": "stream",
     "text": [
      "{3.21, 123, 'CBA', ('A', 'B', 'C')}\n"
     ]
    },
    {
     "data": {
      "text/plain": [
       "{('A', 'B', 'C'), 123, 3.21, 'CBA'}"
      ]
     },
     "execution_count": 36,
     "metadata": {},
     "output_type": "execute_result"
    }
   ],
   "source": [
    "# Set with many types, integer, float, tuple, string\n",
    "Multi = {123, 3.21, (\"A\", \"B\", \"C\"), \"CBA\"}\n",
    "print(Multi)\n",
    "Multi"
   ]
  },
  {
   "cell_type": "code",
   "execution_count": 39,
   "metadata": {},
   "outputs": [
    {
     "ename": "TypeError",
     "evalue": "unhashable type: 'list'",
     "output_type": "error",
     "traceback": [
      "\u001b[1;31m---------------------------------------------------------------------------\u001b[0m",
      "\u001b[1;31mTypeError\u001b[0m                                 Traceback (most recent call last)",
      "\u001b[1;32mc:\\Users\\tobin\\Documents\\_Tex\\Assignment 02\\SetExploration.ipynb Cell 6\u001b[0m line \u001b[0;36m2\n\u001b[0;32m      <a href='vscode-notebook-cell:/c%3A/Users/tobin/Documents/_Tex/Assignment%2002/SetExploration.ipynb#W5sZmlsZQ%3D%3D?line=0'>1</a>\u001b[0m \u001b[39m# Other many types, \u001b[39;00m\n\u001b[1;32m----> <a href='vscode-notebook-cell:/c%3A/Users/tobin/Documents/_Tex/Assignment%2002/SetExploration.ipynb#W5sZmlsZQ%3D%3D?line=1'>2</a>\u001b[0m Multi \u001b[39m=\u001b[39m {\u001b[39m123\u001b[39m, \u001b[39m3.21\u001b[39m, [\u001b[39m1\u001b[39m,\u001b[39m2\u001b[39m,\u001b[39m3\u001b[39m], \u001b[39m\"\u001b[39m\u001b[39mCBA\u001b[39m\u001b[39m\"\u001b[39m}\n\u001b[0;32m      <a href='vscode-notebook-cell:/c%3A/Users/tobin/Documents/_Tex/Assignment%2002/SetExploration.ipynb#W5sZmlsZQ%3D%3D?line=2'>3</a>\u001b[0m \u001b[39mprint\u001b[39m(Multi)\n",
      "\u001b[1;31mTypeError\u001b[0m: unhashable type: 'list'"
     ]
    }
   ],
   "source": [
    "# Other many types, \n",
    "Multi = {123, 3.21, [1,2,3], \"CBA\"}\n",
    "print(Multi)"
   ]
  },
  {
   "cell_type": "code",
   "execution_count": 40,
   "metadata": {},
   "outputs": [
    {
     "ename": "TypeError",
     "evalue": "unhashable type: 'set'",
     "output_type": "error",
     "traceback": [
      "\u001b[1;31m---------------------------------------------------------------------------\u001b[0m",
      "\u001b[1;31mTypeError\u001b[0m                                 Traceback (most recent call last)",
      "\u001b[1;32mc:\\Users\\tobin\\Documents\\_Tex\\Assignment 02\\SetExploration.ipynb Cell 7\u001b[0m line \u001b[0;36m2\n\u001b[0;32m      <a href='vscode-notebook-cell:/c%3A/Users/tobin/Documents/_Tex/Assignment%2002/SetExploration.ipynb#W6sZmlsZQ%3D%3D?line=0'>1</a>\u001b[0m \u001b[39m# Other many types, \u001b[39;00m\n\u001b[1;32m----> <a href='vscode-notebook-cell:/c%3A/Users/tobin/Documents/_Tex/Assignment%2002/SetExploration.ipynb#W6sZmlsZQ%3D%3D?line=1'>2</a>\u001b[0m Multi \u001b[39m=\u001b[39m {\u001b[39m123\u001b[39m, \u001b[39m3.21\u001b[39m, {Multi}, \u001b[39m\"\u001b[39m\u001b[39mCBA\u001b[39m\u001b[39m\"\u001b[39m}\n\u001b[0;32m      <a href='vscode-notebook-cell:/c%3A/Users/tobin/Documents/_Tex/Assignment%2002/SetExploration.ipynb#W6sZmlsZQ%3D%3D?line=2'>3</a>\u001b[0m \u001b[39mprint\u001b[39m(Multi)\n",
      "\u001b[1;31mTypeError\u001b[0m: unhashable type: 'set'"
     ]
    }
   ],
   "source": [
    "# Other many types, \n",
    "Multi = {123, 3.21, {Multi}, \"CBA\"}\n",
    "print(Multi)"
   ]
  },
  {
   "cell_type": "code",
   "execution_count": 43,
   "metadata": {},
   "outputs": [
    {
     "data": {
      "text/plain": [
       "set()"
      ]
     },
     "execution_count": 43,
     "metadata": {},
     "output_type": "execute_result"
    }
   ],
   "source": [
    "empty_set = set()\n",
    "empty_set"
   ]
  },
  {
   "cell_type": "code",
   "execution_count": 48,
   "metadata": {},
   "outputs": [
    {
     "name": "stdout",
     "output_type": "stream",
     "text": [
      "{'Bio', 'Chem', 'Phys', 'Math'}\n",
      "{'Bio', 'Chem', 'Phys', 'Math', 'Eng'}\n"
     ]
    }
   ],
   "source": [
    "classes = {'Math', 'Chem', 'Bio', \"Phys\"}\n",
    "new_class = ['Eng']\n",
    "\n",
    "print(classes)\n",
    "classes.update(new_class)\n",
    "print(classes)"
   ]
  },
  {
   "cell_type": "code",
   "execution_count": 50,
   "metadata": {},
   "outputs": [
    {
     "ename": "AttributeError",
     "evalue": "'NoneType' object has no attribute 'extend'",
     "output_type": "error",
     "traceback": [
      "\u001b[1;31m---------------------------------------------------------------------------\u001b[0m",
      "\u001b[1;31mAttributeError\u001b[0m                            Traceback (most recent call last)",
      "\u001b[1;32mc:\\Users\\tobin\\Documents\\_Tex\\Assignment 02\\SetExploration.ipynb Cell 10\u001b[0m line \u001b[0;36m7\n\u001b[0;32m      <a href='vscode-notebook-cell:/c%3A/Users/tobin/Documents/_Tex/Assignment%2002/SetExploration.ipynb#X12sZmlsZQ%3D%3D?line=3'>4</a>\u001b[0m setVal \u001b[39m=\u001b[39m {\u001b[39m7500\u001b[39m, \u001b[39m\"\u001b[39m\u001b[39mUniversity Drive\u001b[39m\u001b[39m\"\u001b[39m, \u001b[39m\"\u001b[39m\u001b[39mBismark\u001b[39m\u001b[39m\"\u001b[39m, \u001b[39m\"\u001b[39m\u001b[39mNorth Dakota\u001b[39m\u001b[39m\"\u001b[39m, \u001b[39m58504\u001b[39m}\n\u001b[0;32m      <a href='vscode-notebook-cell:/c%3A/Users/tobin/Documents/_Tex/Assignment%2002/SetExploration.ipynb#X12sZmlsZQ%3D%3D?line=5'>6</a>\u001b[0m listAccum \u001b[39m=\u001b[39m \u001b[39mlist\u001b[39m()\u001b[39m.\u001b[39mextend(tupleVal)\n\u001b[1;32m----> <a href='vscode-notebook-cell:/c%3A/Users/tobin/Documents/_Tex/Assignment%2002/SetExploration.ipynb#X12sZmlsZQ%3D%3D?line=6'>7</a>\u001b[0m listAccum\u001b[39m.\u001b[39;49mextend(listVal)\n",
      "\u001b[1;31mAttributeError\u001b[0m: 'NoneType' object has no attribute 'extend'"
     ]
    }
   ],
   "source": [
    "# Challenge\n",
    "tupleVal = (\"Tobin\", \"S\", \"Cavanaugh\")\n",
    "listVal = [\"CSC 106\", 90, 'A']\n",
    "setVal = {7500, \"University Drive\", \"Bismark\", \"North Dakota\", 58504}\n",
    "\n",
    "listAccum = list().extend(tupleVal)\n",
    "listAccum.extend(listVal)"
   ]
  }
 ],
 "metadata": {
  "kernelspec": {
   "display_name": "Python 3",
   "language": "python",
   "name": "python3"
  },
  "language_info": {
   "codemirror_mode": {
    "name": "ipython",
    "version": 3
   },
   "file_extension": ".py",
   "mimetype": "text/x-python",
   "name": "python",
   "nbconvert_exporter": "python",
   "pygments_lexer": "ipython3",
   "version": "3.9.13"
  },
  "orig_nbformat": 4
 },
 "nbformat": 4,
 "nbformat_minor": 2
}
