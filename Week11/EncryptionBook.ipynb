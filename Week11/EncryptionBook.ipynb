{
 "cells": [
  {
   "cell_type": "code",
   "execution_count": 6,
   "metadata": {},
   "outputs": [
    {
     "name": "stdout",
     "output_type": "stream",
     "text": [
      ":):6%6\n",
      "51\n"
     ]
    }
   ],
   "source": [
    "\n",
    "def Encode(rawData):\n",
    "    result = \"\"\n",
    "    for c in str(rawData):\n",
    "        result += chr(ord(c) + 5)\n",
    "        result += chr(ord(c) - 12)\n",
    "        result += chr(ord(c) + 5)\n",
    "\n",
    "    return result\n",
    "\n",
    "\n",
    "def Decode(encoded):\n",
    "    result = \"\"\n",
    "\n",
    "    for i in range(0, len(encoded), 3):\n",
    "        result += chr(ord(encoded[i]) - 5)\n",
    "\n",
    "    return result\n",
    "\n",
    "\n",
    "\n",
    "encoded = Encode(str(input()))\n",
    "print(encoded)\n",
    "decoded = Decode(encoded)\n",
    "print(decoded)"
   ]
  }
 ],
 "metadata": {
  "kernelspec": {
   "display_name": "Python 3",
   "language": "python",
   "name": "python3"
  },
  "language_info": {
   "codemirror_mode": {
    "name": "ipython",
    "version": 3
   },
   "file_extension": ".py",
   "mimetype": "text/x-python",
   "name": "python",
   "nbconvert_exporter": "python",
   "pygments_lexer": "ipython3",
   "version": "3.9.13"
  }
 },
 "nbformat": 4,
 "nbformat_minor": 2
}
