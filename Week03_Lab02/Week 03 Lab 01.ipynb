{
 "cells": [
  {
   "cell_type": "code",
   "execution_count": null,
   "metadata": {},
   "outputs": [],
   "source": [
    "\"\"\"\n",
    "Tobin Cavanaugh\n",
    "09.20.23\n",
    "Homework \n",
    "Question 0000\n",
    "CSC 106\n",
    "\"\"\""
   ]
  },
  {
   "cell_type": "code",
   "execution_count": null,
   "metadata": {},
   "outputs": [],
   "source": [
    "\n",
    "# List stuff\n",
    "Personal_Info = [\"Tobin C\", \"1904 Nw 80th st Seattle, WA\", \"tobincavanaugh@gmail.com\", \"206-586-5263\"]\n",
    "Academic_Info = [\"UMary\", \"Engineering\", \"CSC 106\", \"??\", \"99.9%\"]\n",
    "Combined_Info = []\n",
    "Combined_Info.extend(Personal_Info)\n",
    "Combined_Info.extend(Academic_Info)\n",
    "\n",
    "print(Combined_Info)\n",
    "\n",
    "# List to tuple\n",
    "from_list = [\"A value\", \"WOW\"]\n",
    "to_tuple = tuple(from_list)\n",
    "print(to_tuple)"
   ]
  },
  {
   "cell_type": "code",
   "execution_count": null,
   "metadata": {},
   "outputs": [],
   "source": [
    "\n",
    "Student_ID = [\"Name: Tobin Cavanaugh\", \"Class: CSC 106\", \"Homework: \", \"Question: \", \"Grade: \", \"Date: \"]\n",
    "\n",
    "Student_ID[4] += \"A\"\n",
    "\n",
    "Student_ID.append(\"School\")\n",
    "\n",
    "print(Student_ID)"
   ]
  },
  {
   "cell_type": "code",
   "execution_count": null,
   "metadata": {},
   "outputs": [],
   "source": [
    "numbers = []\n",
    "\n",
    "# Just incrementing by two would be quicker but idk how\n",
    "for i in range(0, 10000):\n",
    "    if i % 2 != 0:\n",
    "        numbers.append(i) \n",
    "\n",
    "#for i in range(0, len(numbers)):\n",
    "    #print(numbers[i])"
   ]
  }
 ],
 "metadata": {
  "language_info": {
   "name": "python"
  },
  "orig_nbformat": 4
 },
 "nbformat": 4,
 "nbformat_minor": 2
}
