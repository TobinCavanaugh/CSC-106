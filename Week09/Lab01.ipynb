{
 "cells": [
  {
   "cell_type": "code",
   "execution_count": 18,
   "metadata": {},
   "outputs": [
    {
     "name": "stderr",
     "output_type": "stream",
     "text": [
      "C:\\Users\\tobin\\AppData\\Local\\Temp\\ipykernel_14584\\1857213823.py:6: FutureWarning: Series.__getitem__ treating keys as positions is deprecated. In a future version, integer keys will always be treated as labels (consistent with DataFrame behavior). To access a value by position, use `ser.iloc[pos]`\n",
      "  DF['class standing'][2]\n"
     ]
    },
    {
     "data": {
      "text/plain": [
       "2"
      ]
     },
     "execution_count": 18,
     "metadata": {},
     "output_type": "execute_result"
    }
   ],
   "source": [
    "import pandas as pd\n",
    "\n",
    "DF = pd.read_csv(\"C:\\\\Users\\\\tobin\\\\Downloads\\\\stuff.csv\")\n",
    "\n",
    "\n",
    "DF['class standing'][2]\n"
   ]
  },
  {
   "cell_type": "code",
   "execution_count": 10,
   "metadata": {},
   "outputs": [
    {
     "name": "stdout",
     "output_type": "stream",
     "text": [
      "     Student  Grade\n",
      "CSC2    Jose      3\n",
      "CSC2  Conrad    100\n",
      "CSC1    Mark    100\n"
     ]
    }
   ],
   "source": [
    "import pandas as pd\n",
    "\n",
    "data = {\n",
    " \"Student\": ['Jose', 'Conrad', 'Mark'],\n",
    " \"Grade\": [3, 100, 100]   \n",
    "}\n",
    "\n",
    "df = pd.DataFrame(data, index = [\"CSC2\", \"CSC2\", \"CSC1\"])\n",
    "\n",
    "print(df)\n"
   ]
  },
  {
   "cell_type": "code",
   "execution_count": 11,
   "metadata": {},
   "outputs": [
    {
     "name": "stdout",
     "output_type": "stream",
     "text": [
      "             0\n",
      "0  Engineering\n",
      "1     Comp Sci\n",
      "2      CSC 106\n",
      "3     Freshman\n"
     ]
    }
   ],
   "source": [
    "import pandas as pd\n",
    "\n",
    "data = {\n",
    "    0: [\"Engineering\", \"Comp Sci\", \"CSC 106\", \"Freshman\"],\n",
    "}\n",
    "\n",
    "df = pd.DataFrame(data)\n",
    "\n",
    "\n",
    "print(df)\n"
   ]
  },
  {
   "cell_type": "code",
   "execution_count": 12,
   "metadata": {},
   "outputs": [
    {
     "data": {
      "text/plain": [
       "96"
      ]
     },
     "execution_count": 12,
     "metadata": {},
     "output_type": "execute_result"
    }
   ],
   "source": [
    "\n",
    "import pandas as pd\n",
    "\n",
    "# DF = pd.read_csv(\"C:\\\\Users\\\\tobin\\\\Downloads\\\\stuff.csv\")\n",
    "data = {\n",
    "    \"Name\" : [\"Tobin\", \"Conrad\", \"Jose\", \"Mark\"],\n",
    "    \"Age\": [18, 18, 18, 18],\n",
    "    \"Height\": [\"6\\'1\\\"\", \"5\\'10\\\"\", \"5\\'8\\\"\", \"6\\'0\\\"\"],\n",
    "    \"Weight\": [170, 170, 170, 170],\n",
    "    \"Temperature\": [96, 96, 96, 96]\n",
    "\n",
    "}\n",
    "DF = pd.DataFrame(data)\n",
    "DF.describe()\n",
    "# DF[\"Name\"].av()\n",
    "DF['Temperature'].max()\n",
    "\n",
    "# print(DF)"
   ]
  }
 ],
 "metadata": {
  "kernelspec": {
   "display_name": "Python 3",
   "language": "python",
   "name": "python3"
  },
  "language_info": {
   "codemirror_mode": {
    "name": "ipython",
    "version": 3
   },
   "file_extension": ".py",
   "mimetype": "text/x-python",
   "name": "python",
   "nbconvert_exporter": "python",
   "pygments_lexer": "ipython3",
   "version": "3.9.13"
  }
 },
 "nbformat": 4,
 "nbformat_minor": 2
}
