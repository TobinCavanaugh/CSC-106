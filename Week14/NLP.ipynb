{
 "cells": [
  {
   "cell_type": "markdown",
   "id": "1227a277",
   "metadata": {},
   "source": [
    "# Take Home Quiz"
   ]
  },
  {
   "cell_type": "markdown",
   "id": "e99cca9e",
   "metadata": {},
   "source": [
    "Write a pipelined (stage by stage) architecure, using the above cell titled - Example Implementation\n",
    "Process - using any data set that has at least 5 lines and 10 words per line. (minimum 50 words). \n",
    "\n",
    "4 stages - ~Tokenization~, ~Tagging~, ~Stopwords~ and ~Lemmatization~. "
   ]
  },
  {
   "cell_type": "code",
   "execution_count": 1,
   "id": "99a93ddb",
   "metadata": {},
   "outputs": [
    {
     "name": "stdout",
     "output_type": "stream",
     "text": [
      "[('Fallout', 'NN'), (':', ':'), ('New', 'NNP'), ('Vegas', 'NNP'), ('clearly', 'RB'), ('best', 'RB'), ('Fallout', 'IN'), ('game', 'NN'), ('.', '.'), (',', ','), ('one', 'CD'), ('best', 'JJS'), ('games', 'NNS'), ('time', 'NN'), ('.', '.'), ('Even', 'RB'), ('non-gamers', 'NNS'), (',', ','), ('FO', 'NNP'), (':', ':'), ('NV', 'NNP'), ('provides', 'VBZ'), ('compelling', 'JJ'), ('intriguing', 'JJ'), ('story', 'NN'), (',', ','), ('exploring', 'VBG'), ('political', 'JJ'), ('idealogies', 'NNS'), ('differing', 'VBG'), ('factions', 'NNS'), ('made', 'VBN'), ('Obsidian', 'JJ'), (',', ','), ('contracted', 'VBD'), ('Bethesda', 'NNP'), ('Game', 'NNP'), ('Studios', 'NNP'), ('.', '.'), ('game', 'NN'), ('built', 'VBD'), ('Fallout', 'NNP'), ('3', 'CD'), ('game', 'NN'), (',', ','), ('made', 'VBD'), ('18', 'CD'), ('months', 'NNS'), ('.', '.'), ('considered', 'VBN'), ('best', 'JJS'), ('game', 'NN'), ('Obsidian', 'NNP'), ('developed', 'VBD'), ('.', '.')]\n"
     ]
    },
    {
     "name": "stderr",
     "output_type": "stream",
     "text": [
      "[nltk_data] Downloading package averaged_perceptron_tagger to\n",
      "[nltk_data]     C:\\Users\\tobin\\AppData\\Roaming\\nltk_data...\n",
      "[nltk_data]   Package averaged_perceptron_tagger is already up-to-\n",
      "[nltk_data]       date!\n"
     ]
    }
   ],
   "source": [
    "from nltk.corpus import stopwords\n",
    "from nltk.tokenize import word_tokenize\n",
    "from nltk.stem import WordNetLemmatizer\n",
    "import nltk\n",
    "\n",
    "def Process(rawText):\n",
    "    lemmatizer = WordNetLemmatizer()\n",
    "    lemVer = lemmatizer.lemmatize(rawText)\n",
    "    tokenized = word_tokenize(lemVer)\n",
    "\n",
    "    stopWords = set(stopwords.words(\"english\"))\n",
    "    filteredWords = []\n",
    "\n",
    "    for word in tokenized:\n",
    "        if word.casefold() not in stopWords:\n",
    "            filteredWords.append(word)\n",
    "\n",
    "    nltk.download('averaged_perceptron_tagger')\n",
    "    tagged = nltk.pos_tag(filteredWords)\n",
    "    return tagged\n",
    "\n",
    "rawText = \"Fallout: New Vegas is clearly the best Fallout game. \\nTo some, it is one of the best games of all time.\\nEven for non-gamers, FO:NV provides a compelling and intriguing story, exploring political idealogies through differing factions \\nIt was made by Obsidian, when they were contracted by Bethesda Game Studios. \\nThe game was built on the Fallout 3 game, and was made in under 18 months. \\nIt is considered the best game Obsidian has developed.\"\n",
    "print(str(Process(rawText)))"
   ]
  }
 ],
 "metadata": {
  "kernelspec": {
   "display_name": "Python 3 (ipykernel)",
   "language": "python",
   "name": "python3"
  },
  "language_info": {
   "codemirror_mode": {
    "name": "ipython",
    "version": 3
   },
   "file_extension": ".py",
   "mimetype": "text/x-python",
   "name": "python",
   "nbconvert_exporter": "python",
   "pygments_lexer": "ipython3",
   "version": "3.9.13"
  }
 },
 "nbformat": 4,
 "nbformat_minor": 5
}
