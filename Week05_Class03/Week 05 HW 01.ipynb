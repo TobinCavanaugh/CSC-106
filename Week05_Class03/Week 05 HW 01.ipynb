{
 "cells": [
  {
   "cell_type": "code",
   "execution_count": null,
   "metadata": {},
   "outputs": [],
   "source": [
    "\"\"\"\n",
    "Tobin Cavanaugh\n",
    "Due 10.20.2023\n",
    "Week 05 HW 01\n",
    "\"\"\""
   ]
  },
  {
   "cell_type": "markdown",
   "metadata": {},
   "source": [
    "I decided to use the exit keyword as in python you cant call return if you're not in a function.\n",
    "The logic i use means we use only one temperature comparison for every level"
   ]
  },
  {
   "cell_type": "code",
   "execution_count": null,
   "metadata": {},
   "outputs": [],
   "source": [
    "ADULT = \"ADULT\"\n",
    "CHILD = \"CHILD\"\n",
    "BABY = \"BABY\"\n",
    "\n",
    "person = [ADULT, 92]\n",
    "\n",
    "if(person[1] <= 95):\n",
    "    print(\"Hypothermia, SEEK CARE\")\n",
    "    exit\n",
    "\n",
    "if(person[1] <= 96.9):\n",
    "    if(person[0] == BABY):\n",
    "        print(\"Low, SEEK CARE\")\n",
    "        exit\n",
    "    print(\"Low but possibly normal\")\n",
    "    exit\n",
    "\n",
    "if(person[1] <= 98.6):\n",
    "    print(\"Normal\")\n",
    "    exit\n",
    "\n",
    "if(person[1] < 100.4):\n",
    "    if(person[0] == BABY):\n",
    "        print(\"Low grade fever\")\n",
    "        exit\n",
    "    print(\"Normal or low grade fever\")\n",
    "    exit\n",
    "\n",
    "if(person[0] == BABY):\n",
    "    print(\"High Fever, SEEK CARE\")\n",
    "    exit\n",
    "\n",
    "print(\"High fever, CALL YOUR DOCTOR\")"
   ]
  }
 ],
 "metadata": {
  "kernelspec": {
   "display_name": "Python 3",
   "language": "python",
   "name": "python3"
  },
  "language_info": {
   "codemirror_mode": {
    "name": "ipython",
    "version": 3
   },
   "file_extension": ".py",
   "mimetype": "text/x-python",
   "name": "python",
   "nbconvert_exporter": "python",
   "pygments_lexer": "ipython3",
   "version": "3.9.13"
  }
 },
 "nbformat": 4,
 "nbformat_minor": 2
}
