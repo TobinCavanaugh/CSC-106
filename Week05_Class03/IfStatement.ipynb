{
 "cells": [
  {
   "cell_type": "code",
   "execution_count": 7,
   "metadata": {},
   "outputs": [],
   "source": [
    "CHILD = \"Child\"\n",
    "BABY = \"Baby\"\n",
    "ADULT = \"Adult\""
   ]
  },
  {
   "cell_type": "code",
   "execution_count": 8,
   "metadata": {},
   "outputs": [],
   "source": [
    "person = {\"Age\":ADULT, \"Temperature\":5}\n",
    "\n",
    "person[\"Temperature\"] = float(input(\"Temperature?\"))\n",
    "person[\"Age\"] = str(input(\"Age?\"))"
   ]
  },
  {
   "cell_type": "code",
   "execution_count": null,
   "metadata": {},
   "outputs": [],
   "source": [
    "if(person[\"Temperature\"]):\n",
    "    age = person[\"Age\"]\n",
    "    \n",
    "    if age == BABY:\n",
    "        print(\"bsc\")\n",
    "    elif age == CHILD:\n",
    "        print(\"ccc\")\n",
    "    elif age == ADULT:\n",
    "        print(\"asc\")"
   ]
  },
  {
   "cell_type": "code",
   "execution_count": 1,
   "metadata": {},
   "outputs": [],
   "source": [
    "def SeekCare(reason):\n",
    "    print(str(reason) + \": Seek Care\")"
   ]
  },
  {
   "cell_type": "code",
   "execution_count": null,
   "metadata": {},
   "outputs": [],
   "source": [
    "teststr = \"abc\"\n",
    "if teststr == \"abc\":\n",
    "    print(\"match\")"
   ]
  },
  {
   "cell_type": "code",
   "execution_count": 5,
   "metadata": {},
   "outputs": [
    {
     "name": "stdout",
     "output_type": "stream",
     "text": [
      "match\n"
     ]
    }
   ],
   "source": [
    "testchar = 'a'\n",
    "if(testchar == 'a' and testchar != 'b'):\n",
    "    print(\"match\")"
   ]
  }
 ],
 "metadata": {
  "kernelspec": {
   "display_name": "Python 3",
   "language": "python",
   "name": "python3"
  },
  "language_info": {
   "codemirror_mode": {
    "name": "ipython",
    "version": 3
   },
   "file_extension": ".py",
   "mimetype": "text/x-python",
   "name": "python",
   "nbconvert_exporter": "python",
   "pygments_lexer": "ipython3",
   "version": "3.9.13"
  },
  "orig_nbformat": 4
 },
 "nbformat": 4,
 "nbformat_minor": 2
}
